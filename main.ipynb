{
 "cells": [
  {
   "cell_type": "code",
   "execution_count": 16,
   "id": "801df3a4",
   "metadata": {},
   "outputs": [],
   "source": [
    "# !pip install pytesseract\n",
    "# # !pip install Pillow\n",
    "# !pip install pywhatkit --upgrade"
   ]
  },
  {
   "cell_type": "code",
   "execution_count": 52,
   "id": "d721abd7",
   "metadata": {},
   "outputs": [],
   "source": [
    "import pytesseract as pyt\n",
    "from PIL import Image, ImageDraw, ImageFont\n",
    "import os"
   ]
  },
  {
   "cell_type": "markdown",
   "id": "5f9b200c",
   "metadata": {},
   "source": [
    "# Main Code and Logic"
   ]
  },
  {
   "cell_type": "code",
   "execution_count": 53,
   "id": "8fbc97fd",
   "metadata": {},
   "outputs": [],
   "source": [
    "#set path of tesseract\n",
    "pytesseract.pytesseract.tesseract_cmd=r'C:\\Users\\HP\\AppData\\Local\\Programs\\Tesseract-OCR\\tesseract.exe'\n",
    "\n",
    "#load image\n",
    "image=Image.open('image.png')\n",
    "\n",
    "#extracting content from image (text)\n",
    "text=pyt.image_to_string(image)\n",
    "\n",
    "#font file path\n",
    "path=r\"C:\\Users\\HP\\Projects\\text to handwritten\\GrapeNuts-Regular.ttf\"\n",
    "\n",
    "#font \n",
    "font=ImageFont.truetype(path,size=23)\n",
    "\n",
    "# creating new image with same size as that of 'image'\n",
    "op_image=Image.new('RGB',(767, 1200),color=(255,255,255))\n",
    "\n",
    "#associating a drawing object with new_img\n",
    "new_img=ImageDraw.Draw(op_image)\n",
    "\n",
    "#drawing text on image\n",
    "new_img.text((10,10),text,font=font,fill=(0,43,89))\n",
    "\n",
    "\n",
    "#save image\n",
    "op_image.save('op.png')"
   ]
  }
 ],
 "metadata": {
  "kernelspec": {
   "display_name": "Python 3 (ipykernel)",
   "language": "python",
   "name": "python3"
  },
  "language_info": {
   "codemirror_mode": {
    "name": "ipython",
    "version": 3
   },
   "file_extension": ".py",
   "mimetype": "text/x-python",
   "name": "python",
   "nbconvert_exporter": "python",
   "pygments_lexer": "ipython3",
   "version": "3.10.9"
  }
 },
 "nbformat": 4,
 "nbformat_minor": 5
}
